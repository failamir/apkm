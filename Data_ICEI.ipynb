{
 "cells": [
  {
   "cell_type": "markdown",
   "metadata": {
    "id": "TOn6s1zxEyTj"
   },
   "source": [
    "# Prediksi Kelulusan Mahasiswa\n",
    "---"
   ]
  },
  {
   "cell_type": "markdown",
   "metadata": {
    "id": "2nJh3_R5ogqu"
   },
   "source": [
    "Ikuti langkah berikut untuk mendapatkan prediksi kelulusan mahasiswa.\n",
    "\n",
    "\n",
    "1.   File yang diunggah sesuai dengan contoh template berikut: https://bit.ly/template-prediksi-kelulusan\n",
    "2.   Unggah file yang sudah ada lalu tunggu hingga file terunggah 100%.\n",
    "3.   Tunggu hingga proses prediksi selesai dijalankan.\n",
    "4.   Hasil akan muncul di bagian bawah berbentuk chart dan CSV hasil akan terunduh secara otomatis.\n",
    "\n"
   ]
  },
  {
   "cell_type": "code",
   "execution_count": null,
   "metadata": {
    "cellView": "form",
    "colab": {
     "base_uri": "https://localhost:8080/",
     "height": 90,
     "resources": {
      "http://localhost:8080/nbextensions/google.colab/files.js": {
       "data": "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",
       "headers": [
        [
         "content-type",
         "application/javascript"
        ]
       ],
       "ok": true,
       "status": 200,
       "status_text": ""
      }
     }
    },
    "id": "1RyFlc2GecNI",
    "outputId": "0fb586c2-ea97-425c-f9a2-64e42e247c96"
   },
   "outputs": [],
   "source": [
    "#@title 1. Silakan unggah Data Historis mahasiswa anda disini\n",
    "from google.colab import files\n",
    "uploaded = files.upload()"
   ]
  },
  {
   "cell_type": "code",
   "execution_count": 2,
   "metadata": {
    "cellView": "form",
    "colab": {
     "base_uri": "https://localhost:8080/"
    },
    "id": "wNZMYEc6RmqQ",
    "outputId": "b20f382a-0b5d-478e-e88d-b05b792ffade"
   },
   "outputs": [
    {
     "name": "stdout",
     "output_type": "stream",
     "text": [
      "40\n"
     ]
    }
   ],
   "source": [
    "#@title 2. Masukkan batas nilai akhir kelulusan\n",
    "cutting_score = int(input())"
   ]
  },
  {
   "cell_type": "code",
   "execution_count": 6,
   "metadata": {
    "cellView": "form",
    "colab": {
     "base_uri": "https://localhost:8080/"
    },
    "id": "c-mu5aFK1oL2",
    "outputId": "aa4a0dbe-837f-4d84-dad6-5c037b1d14b4"
   },
   "outputs": [
    {
     "name": "stderr",
     "output_type": "stream",
     "text": [
      "/Users/macbook/.pyenv/versions/3.7.13/lib/python3.7/site-packages/pandas/core/indexing.py:1684: SettingWithCopyWarning: \n",
      "A value is trying to be set on a copy of a slice from a DataFrame.\n",
      "Try using .loc[row_indexer,col_indexer] = value instead\n",
      "\n",
      "See the caveats in the documentation: https://pandas.pydata.org/pandas-docs/stable/user_guide/indexing.html#returning-a-view-versus-a-copy\n",
      "  self.obj[key] = infer_fill_value(value)\n",
      "/Users/macbook/.pyenv/versions/3.7.13/lib/python3.7/site-packages/pandas/core/indexing.py:1817: SettingWithCopyWarning: \n",
      "A value is trying to be set on a copy of a slice from a DataFrame.\n",
      "Try using .loc[row_indexer,col_indexer] = value instead\n",
      "\n",
      "See the caveats in the documentation: https://pandas.pydata.org/pandas-docs/stable/user_guide/indexing.html#returning-a-view-versus-a-copy\n",
      "  self._setitem_single_column(loc, value, pi)\n"
     ]
    }
   ],
   "source": [
    "#@title 3. Proses Prediksi\n",
    "import operator\n",
    "\n",
    "import pandas as pd\n",
    "import numpy as np\n",
    "import seaborn as sns\n",
    "import matplotlib.pyplot as plt\n",
    "from sklearn.metrics import confusion_matrix\n",
    "from sklearn import preprocessing\n",
    "from sklearn.metrics import accuracy_score, recall_score, precision_score, f1_score\n",
    "from sklearn.base import BaseEstimator, ClassifierMixin\n",
    "from sklearn.model_selection import train_test_split\n",
    "from imblearn.over_sampling import SMOTE\n",
    "\n",
    "class FuzzyKNN(BaseEstimator, ClassifierMixin):\n",
    "  def __init__(self, k=3, plot=False):\n",
    "    self.k = k\n",
    "    self.plot = plot\n",
    "\n",
    "\n",
    "  def fit(self, X, y=None):\n",
    "    self._check_params(X,y)\n",
    "    self.X = X\n",
    "    self.y = y\n",
    "\n",
    "    self.xdim = len(self.X[0])\n",
    "    self.n = len(y)\n",
    "\n",
    "    classes = list(set(y))\n",
    "    classes.sort()\n",
    "    self.classes = classes\n",
    "\n",
    "    self.df = pd.DataFrame(self.X)\n",
    "    self.df['y'] = self.y\n",
    "\n",
    "    self.memberships = self._compute_memberships()\n",
    "\n",
    "    self.df['membership'] = self.memberships\n",
    "\n",
    "    self.fitted_ = True\n",
    "    return self\n",
    "\n",
    "\n",
    "  def predict(self, X):\n",
    "    if self.fitted_ == None:\n",
    "      raise Exception('predict() called before fit()')\n",
    "    else:\n",
    "      m = 2\n",
    "      y_pred = []\n",
    "\n",
    "      for x in X:\n",
    "        neighbors = self._find_k_nearest_neighbors(pd.DataFrame.copy(self.df), x)\n",
    "\n",
    "        votes = {}\n",
    "        for c in self.classes:\n",
    "          den = 0\n",
    "          for n in range(self.k):\n",
    "            dist = np.linalg.norm(x - neighbors.iloc[n,0:self.xdim])\n",
    "            den += 1 / (dist ** (2 / (m-1)))\n",
    "\n",
    "          neighbors_votes = []\n",
    "          for n in range(self.k):\n",
    "            dist = np.linalg.norm(x - neighbors.iloc[n,0:self.xdim])\n",
    "            num = (neighbors.iloc[n].membership[c]) / (dist ** (2 / (m-1)))\n",
    "\n",
    "            vote = num/den\n",
    "            neighbors_votes.append(vote)\n",
    "          votes[c] = np.sum(neighbors_votes)\n",
    "\n",
    "        pred = max(votes.items(), key=operator.itemgetter(1))[0]\n",
    "        y_pred.append((pred, votes))\n",
    "\n",
    "      return y_pred\n",
    "\n",
    "\n",
    "  def score(self, X, y):\n",
    "    if self.fitted_ == None:\n",
    "      raise Exception('score() called before fit()')\n",
    "    else:\n",
    "      predictions = self.predict(X)\n",
    "      y_pred = [t[0] for t in predictions]\n",
    "      confidences = [t[1] for t in predictions]\n",
    "\n",
    "      return accuracy_score(y_pred=y_pred, y_true=y)\n",
    "\n",
    "\n",
    "  def _find_k_nearest_neighbors(self, df, x):\n",
    "    X = df.iloc[:,0:self.xdim].values\n",
    "\n",
    "    df['distances'] = [np.linalg.norm(X[i] - x) for i in range(self.n)]\n",
    "\n",
    "    df.sort_values(by='distances', ascending=True, inplace=True)\n",
    "    neighbors = df.iloc[0:self.k]\n",
    "\n",
    "    return neighbors\n",
    "\n",
    "\n",
    "  def _find_k_nearest_neighbors_training(self, df, x):\n",
    "    X = df.iloc[:,0:self.xdim].values\n",
    "\n",
    "    df['distances'] = [np.linalg.norm(X[i] - x) for i in range(self.n)]\n",
    "\n",
    "    df.sort_values(by='distances', ascending=True, inplace=True)\n",
    "    neighbors = df.iloc[1:(self.k+1)]\n",
    "\n",
    "    return neighbors\n",
    "\n",
    "\n",
    "  def _get_counts(self, neighbors):\n",
    "    groups = neighbors.groupby('y')\n",
    "    counts = {group[1]['y'].iloc[0]:group[1].count()[0] for group in groups}\n",
    "\n",
    "    return counts\n",
    "\n",
    "\n",
    "  def _compute_memberships(self):\n",
    "    memberships = []\n",
    "    for i in range(self.n):\n",
    "      x = self.X[i]\n",
    "      y = self.y[i]\n",
    "\n",
    "      neighbors = self._find_k_nearest_neighbors_training(pd.DataFrame.copy(self.df), x)\n",
    "      counts = self._get_counts(neighbors)\n",
    "\n",
    "      membership = dict()\n",
    "      for c in self.classes:\n",
    "        try:\n",
    "          uci = 0.49 * (counts[c] / self.k)\n",
    "          if c == y:\n",
    "            uci += 0.51\n",
    "          membership[c] = uci\n",
    "        except:\n",
    "          if c == y:\n",
    "            membership[c] = 0.51\n",
    "          elif c != y:\n",
    "            membership[c] = 0\n",
    "\n",
    "      memberships.append(membership)\n",
    "    return memberships\n",
    "\n",
    "\n",
    "  def _check_params(self, X, y):\n",
    "    if type(self.k) != int:\n",
    "      raise Exception('\"k\" should have type int')\n",
    "    if self.k >= len(y):\n",
    "      raise Exception('\"k\" should be less than no of feature sets')\n",
    "    if self.k % 2 == 0:\n",
    "      raise Exception('\"k\" should be odd')\n",
    "\n",
    "    if type(self.plot) != bool:\n",
    "      raise Exception('\"plot\" should have type bool')\n",
    "\n",
    "# df = pd.read_excel(r'/content/Data LMS + Nilai - ICEI Rev 21.03.2021 (1).xlsx')\n",
    "df = pd.read_excel(r'content/Data-LMS-+-Nilai---ICEI-Rev-21.03.2021-(1).xlsx')\n",
    "\n",
    "#Active or Observers\n",
    "df.loc[df['Nilai_Akhir'] > 0,'is_active'] = \"Active\"\n",
    "df.loc[df['Nilai_Akhir'] == 0,'is_active'] = \"Observers\"\n",
    "active = df.loc[df['is_active']=='Active']\n",
    "observers = df.loc[df['is_active']=='Observers']\n",
    "\n",
    "#Pass or Not (to predict)\n",
    "active.loc[(active['Nilai_Akhir'])>=cutting_score, 'is_pass']=\"Lulus\"\n",
    "active.loc[(active['Nilai_Akhir'])<cutting_score, 'is_pass']=\"Tidak Lulus\"\n",
    "df1 = pd.get_dummies(active['is_pass'], prefix='Status')\n",
    "df2 = pd.concat([active, df1], axis=1)\n",
    "\n",
    "df2['Mean_kuis'] = (df2['Kuis_1']+df2['Kuis_2'])/2\n",
    "#df2['Mean_tugas'] = (df2['Tugas_1']+df2['Tugas_2'])/2\n",
    "\n",
    "X = df2[['Akses_File','Akses_Video','Akses Forum', 'Mean_kuis', 'Tugas_1']]\n",
    "\n",
    "#Normalisasi Data Untuk X1\n",
    "minmax_scaler = preprocessing.MinMaxScaler()\n",
    "X_minmax = minmax_scaler.fit_transform(X)\n",
    "\n",
    "df3 = pd.DataFrame()\n",
    "df3 = df2\n",
    "df3[['Akses_File_norm','Akses_Video_norm','Akses_Forum_norm', 'Mean_kuis_norm','Mean_tugas_norm']] = X_minmax\n",
    "\n",
    "#Melakukan pengacakan pada data\n",
    "df4 = df3.sample(frac=1.0, random_state=0)\n",
    "\n",
    "#Menghapus duplikasi data\n",
    "df4.drop_duplicates(subset=['Akses_File_norm','Akses_Video_norm',\n",
    "                            'Akses_Forum_norm','Mean_kuis_norm', 'Mean_tugas_norm'], keep='first', inplace=True)\n",
    "\n",
    "#X_norm_plus_name =df4[['NIM','NAMA MAHASISWA','5M_norm','NILAI RATA-RATA 5 PARTISIPASI_norm','5FD_norm','NILAI RATA-RATA 5 DISKUSI_norm','NILAI TUGAS 1_norm']]\n",
    "X_norm_plus_name =df4[['Nama']]\n",
    "\n",
    "#Memilih variabel bebas dan target\n",
    "X_norm =df4[['Akses_File_norm','Akses_Video_norm','Akses_Forum_norm','Mean_kuis_norm', 'Mean_tugas_norm']]\n",
    "y = df4['Status_Lulus']\n",
    "\n",
    "from sklearn.model_selection import cross_val_score, KFold\n",
    "import math\n",
    "\n",
    "kf_plus_name = KFold(n_splits=5)\n",
    "\n",
    "train_cv_plus_name = []\n",
    "test_cv_plus_name = []\n",
    "for train, test in kf_plus_name.split(X_norm_plus_name):\n",
    "  train_cv_plus_name.append(train)\n",
    "  test_cv_plus_name.append(test)\n",
    "\n",
    "n_plus_name=len(X_norm_plus_name)\n",
    "\n",
    "fold1_plus_name = math.ceil(0.2*n_plus_name)\n",
    "fold2_plus_name = math.ceil(0.4*n_plus_name)\n",
    "fold3_plus_name = math.ceil(0.6*n_plus_name)\n",
    "fold4_plus_name = math.ceil(0.8*n_plus_name)\n",
    "fold5_plus_name = n_plus_name\n",
    "\n",
    "#test\n",
    "X_train_cv1_plus_name = X_norm_plus_name[fold1_plus_name:n_plus_name]\n",
    "X_test_cv1_plus_name = X_norm_plus_name[test_cv_plus_name[0][0]:fold1_plus_name]\n",
    "y_train_cv1 = y[fold1_plus_name:n_plus_name]\n",
    "y_test_cv1 = y[test_cv_plus_name[0][0]:fold1_plus_name]\n",
    "\n",
    "X_train_cv2_plus_name = pd.concat([X_norm_plus_name[train_cv_plus_name[1][0]:fold1_plus_name], X_norm_plus_name[fold2_plus_name:n_plus_name]])\n",
    "X_test_cv2_plus_name = X_norm_plus_name[fold1_plus_name:fold2_plus_name]\n",
    "y_train_cv2 = pd.concat([y[train_cv_plus_name[1][0]:fold1_plus_name], y[fold2_plus_name:n_plus_name]])\n",
    "y_test_cv2 = y[fold1_plus_name:fold2_plus_name]\n",
    "\n",
    "X_train_cv3_plus_name = pd.concat([X_norm_plus_name[train_cv_plus_name[2][0]:fold2_plus_name], X_norm_plus_name[fold3_plus_name:n_plus_name]])\n",
    "X_test_cv3_plus_name = X_norm_plus_name[fold2_plus_name:fold3_plus_name]\n",
    "y_train_cv3 = pd.concat([y[train_cv_plus_name[2][0]:fold2_plus_name], y[fold3_plus_name:n_plus_name]])\n",
    "y_test_cv3 = y[fold2_plus_name:fold3_plus_name]\n",
    "\n",
    "X_train_cv4_plus_name = pd.concat([X_norm_plus_name[train_cv_plus_name[3][0]:fold3_plus_name], X_norm_plus_name[fold4_plus_name:n_plus_name]])\n",
    "X_test_cv4_plus_name = X_norm_plus_name[fold3_plus_name:fold4_plus_name]\n",
    "y_train_cv4 = pd.concat([y[train_cv_plus_name[3][0]:fold3_plus_name], y[fold4_plus_name:n_plus_name]])\n",
    "y_test_cv4 = y[fold3_plus_name:fold4_plus_name]\n",
    "\n",
    "X_train_cv5_plus_name = X_norm_plus_name[train_cv_plus_name[4][0]:fold4_plus_name]\n",
    "X_test_cv5_plus_name = X_norm_plus_name[fold4_plus_name:fold5_plus_name]\n",
    "y_train_cv5 = y[train_cv_plus_name[4][0]:fold4_plus_name]\n",
    "y_test_cv5 = y[fold4_plus_name:fold5_plus_name]\n",
    "\n",
    "kf = KFold(n_splits=5)\n",
    "\n",
    "train_cv = []\n",
    "test_cv = []\n",
    "for train, test in kf.split(X_norm):\n",
    "  train_cv.append(train)\n",
    "  test_cv.append(test)\n",
    "\n",
    "n=len(X_norm)\n",
    "\n",
    "fold1 = math.ceil(0.2*n)\n",
    "fold2 = math.ceil(0.4*n)\n",
    "fold3 = math.ceil(0.6*n)\n",
    "fold4 = math.ceil(0.8*n)\n",
    "fold5 = n\n",
    "\n",
    "#test\n",
    "X_train_cv1 = X_norm[fold1:n]\n",
    "X_test_cv1 = X_norm[test_cv[0][0]:fold1]\n",
    "y_train_cv1 = y[fold1:n]\n",
    "y_test_cv1 = y[test_cv[0][0]:fold1]\n",
    "\n",
    "X_train_cv2 = pd.concat([X_norm[train_cv[1][0]:fold1], X_norm[fold2:n]])\n",
    "X_test_cv2 = X_norm[fold1:fold2]\n",
    "y_train_cv2 = pd.concat([y[train_cv[1][0]:fold1], y[fold2:n]])\n",
    "y_test_cv2 = y[fold1:fold2]\n",
    "\n",
    "X_train_cv3 = pd.concat([X_norm[train_cv[2][0]:fold2], X_norm[fold3:n]])\n",
    "X_test_cv3 = X_norm[fold2:fold3]\n",
    "y_train_cv3 = pd.concat([y[train_cv[2][0]:fold2], y[fold3:n]])\n",
    "y_test_cv3 = y[fold2:fold3]\n",
    "\n",
    "X_train_cv4 = pd.concat([X_norm[train_cv[3][0]:fold3], X_norm[fold4:n]])\n",
    "X_test_cv4 = X_norm[fold3:fold4]\n",
    "y_train_cv4 = pd.concat([y[train_cv[3][0]:fold3], y[fold4:n]])\n",
    "y_test_cv4 = y[fold3:fold4]\n",
    "\n",
    "X_train_cv5 = X_norm[train_cv[4][0]:fold4]\n",
    "X_test_cv5 = X_norm[fold4:fold5]\n",
    "y_train_cv5 = y[train_cv[4][0]:fold4]\n",
    "y_test_cv5 = y[fold4:fold5]\n",
    "\n",
    "#Ubah ke dalam array\n",
    "X_train_array_cv1 = np.array(X_train_cv1)\n",
    "X_test_array_cv1 = np.array(X_test_cv1)\n",
    "y_train_array_cv1 = np.array(y_train_cv1)\n",
    "y_test_array_cv1 = np.array(y_test_cv1)\n",
    "\n",
    "X_train_array_cv2 = np.array(X_train_cv2)\n",
    "X_test_array_cv2 = np.array(X_test_cv2)\n",
    "y_train_array_cv2 = np.array(y_train_cv2)\n",
    "y_test_array_cv2 = np.array(y_test_cv2)\n",
    "\n",
    "X_train_array_cv3 = np.array(X_train_cv3)\n",
    "X_test_array_cv3 = np.array(X_test_cv3)\n",
    "y_train_array_cv3 = np.array(y_train_cv3)\n",
    "y_test_array_cv3 = np.array(y_test_cv3)\n",
    "\n",
    "X_train_array_cv4 = np.array(X_train_cv4)\n",
    "X_test_array_cv4 = np.array(X_test_cv4)\n",
    "y_train_array_cv4 = np.array(y_train_cv4)\n",
    "y_test_array_cv4 = np.array(y_test_cv4)\n",
    "\n",
    "X_train_array_cv5 = np.array(X_train_cv5)\n",
    "X_test_array_cv5 = np.array(X_test_cv5)\n",
    "y_train_array_cv5 = np.array(y_train_cv5)\n",
    "y_test_array_cv5 = np.array(y_test_cv5)\n",
    "\n",
    "from sklearn.metrics import classification_report\n",
    "for i in range(3,8,2):\n",
    "  fknn = FuzzyKNN(k=i)\n",
    "  fknn.fit(X_train_array_cv5, y_train_array_cv5)\n",
    "  hasil_prediksi = []\n",
    "  for g in range(0,len(X_test_array_cv5)):\n",
    "    prediksi = fknn.predict(X_test_array_cv5[[g]])\n",
    "    hasil_prediksi.append(prediksi)\n",
    "\n",
    "  y_prediksi = []\n",
    "  for h in range(0,len(hasil_prediksi)):\n",
    "    z = hasil_prediksi[h][0][0]\n",
    "    y_prediksi.append(z)\n",
    "\n",
    "  #print(classification_report(y_test_array_cv5, y_prediksi, digits=4))"
   ]
  },
  {
   "cell_type": "code",
   "execution_count": 7,
   "metadata": {
    "cellView": "form",
    "colab": {
     "base_uri": "https://localhost:8080/",
     "height": 388
    },
    "id": "dJY69E1REobQ",
    "outputId": "53439a10-f99f-415e-fdb4-97c696a79a12"
   },
   "outputs": [
    {
     "name": "stderr",
     "output_type": "stream",
     "text": [
      "/Users/macbook/.pyenv/versions/3.7.13/lib/python3.7/site-packages/ipykernel_launcher.py:4: SettingWithCopyWarning: \n",
      "A value is trying to be set on a copy of a slice from a DataFrame.\n",
      "Try using .loc[row_indexer,col_indexer] = value instead\n",
      "\n",
      "See the caveats in the documentation: https://pandas.pydata.org/pandas-docs/stable/user_guide/indexing.html#returning-a-view-versus-a-copy\n",
      "  after removing the cwd from sys.path.\n"
     ]
    },
    {
     "data": {
      "image/png": "[encoded data removed]",
      "text/plain": [
       "<Figure size 432x288 with 1 Axes>"
      ]
     },
     "metadata": {},
     "output_type": "display_data"
    }
   ],
   "source": [
    "#@title 4. Hasil prediksi\n",
    "df5 = pd.DataFrame()\n",
    "df5 = X_test_cv5_plus_name\n",
    "df5['PREDIKSI KELULUSAN'] = y_prediksi\n",
    "\n",
    "lulus = sum(df5['PREDIKSI KELULUSAN'])\n",
    "tidak_lulus = len(df5['PREDIKSI KELULUSAN'])-lulus\n",
    "\n",
    "\n",
    "labels = 'Lulus = '+str(lulus), 'Tidak Lulus = '+str(tidak_lulus)\n",
    "sections = [lulus, tidak_lulus]\n",
    "colors = ['c', 'g']\n",
    "\n",
    "plt.pie(sections, labels=labels, colors=colors,\n",
    "        startangle=90,\n",
    "        explode = (0, 0.1),\n",
    "        autopct = '%1.2f%%')\n",
    "\n",
    "#plt.axis('equal') # Try commenting this out.\n",
    "plt.title('Proporsi Jumlah Lulus dan Tidak Lulus')\n",
    "plt.show()\n",
    "#print(fknn2)"
   ]
  },
  {
   "cell_type": "code",
   "execution_count": 8,
   "metadata": {
    "cellView": "form",
    "colab": {
     "base_uri": "https://localhost:8080/",
     "height": 264
    },
    "id": "FpAarrSmd_nq",
    "outputId": "d2e33182-ffd5-486a-b7a4-82c5f72c05d0"
   },
   "outputs": [
    {
     "data": {
      "image/png": "[encoded data removed]",
      "text/plain": [
       "<Figure size 432x288 with 1 Axes>"
      ]
     },
     "metadata": {},
     "output_type": "display_data"
    }
   ],
   "source": [
    "#@title 5. Proporsi Mahasiswa Active dan Observers\n",
    "count_active = len(active)\n",
    "count_observers = len(observers)\n",
    "\n",
    "\n",
    "labels = 'Active = '+str(count_active), 'Observers = '+str(count_observers)\n",
    "sections = [count_active, count_observers]\n",
    "colors = ['c', 'r']\n",
    "\n",
    "plt.pie(sections, labels=labels, colors=colors,\n",
    "        startangle=90,\n",
    "        explode = (0, 0.1),\n",
    "        autopct = '%1.2f%%')\n",
    "\n",
    "#plt.axis('equal') # Try commenting this out.\n",
    "plt.title('Proporsi Mahasiswa Active dan Observers')\n",
    "plt.show()"
   ]
  },
  {
   "cell_type": "code",
   "execution_count": null,
   "metadata": {
    "cellView": "form",
    "colab": {
     "base_uri": "https://localhost:8080/"
    },
    "id": "s4DqdxSe9VyL",
    "outputId": "989ad968-6c67-4780-c27b-8049f8dbb105"
   },
   "outputs": [
    {
     "name": "stdout",
     "output_type": "stream",
     "text": [
      "Accuracy = 0.9333\n",
      "Recall Tidak Lulus = 0.6000\n",
      "Recall Lulus = 1.0000\n",
      "Precision Tidak Lulus = 0.8000\n",
      "Precision Lulus = 0.9232\n"
     ]
    },
    {
     "name": "stderr",
     "output_type": "stream",
     "text": [
      "/usr/local/lib/python3.7/dist-packages/sklearn/metrics/_classification.py:1318: UndefinedMetricWarning: Recall is ill-defined and being set to 0.0 due to no true samples. Use `zero_division` parameter to control this behavior.\n",
      "  _warn_prf(average, modifier, msg_start, len(result))\n",
      "/usr/local/lib/python3.7/dist-packages/sklearn/metrics/_classification.py:1318: UndefinedMetricWarning: Precision is ill-defined and being set to 0.0 due to no predicted samples. Use `zero_division` parameter to control this behavior.\n",
      "  _warn_prf(average, modifier, msg_start, len(result))\n"
     ]
    }
   ],
   "source": [
    "#@title 6. Nilai Accuracy dan Recall \n",
    "import statistics\n",
    "#Evaluasi fold 1\n",
    "fknn1 = FuzzyKNN(k=3)\n",
    "fknn1.fit(X_train_array_cv1, y_train_array_cv1)\n",
    "hasil_prediksi1 = []\n",
    "for g in range(0,len(X_test_array_cv1)):\n",
    "  prediksi1 = fknn1.predict(X_test_array_cv1[[g]])\n",
    "  hasil_prediksi1.append(prediksi1)\n",
    "\n",
    "y_prediksi1 = []\n",
    "for h in range(0,len(hasil_prediksi1)):\n",
    "  z = hasil_prediksi1[h][0][0]\n",
    "  y_prediksi1.append(z)\n",
    "\n",
    "#Evaluasi fold 2\n",
    "fknn2 = FuzzyKNN(k=3)\n",
    "fknn2.fit(X_train_array_cv2, y_train_array_cv2)\n",
    "hasil_prediksi2 = []\n",
    "for g in range(0,len(X_test_array_cv2)):\n",
    "  prediksi2 = fknn2.predict(X_test_array_cv2[[g]])\n",
    "  hasil_prediksi2.append(prediksi2)\n",
    "\n",
    "y_prediksi2 = []\n",
    "for h in range(0,len(hasil_prediksi2)):\n",
    "  z = hasil_prediksi2[h][0][0]\n",
    "  y_prediksi2.append(z)\n",
    "\n",
    "#Evaluasi fold 3\n",
    "fknn3 = FuzzyKNN(k=3)\n",
    "fknn3.fit(X_train_array_cv3, y_train_array_cv3)\n",
    "hasil_prediksi3 = []\n",
    "for g in range(0,len(X_test_array_cv3)):\n",
    "  prediksi3 = fknn3.predict(X_test_array_cv3[[g]])\n",
    "  hasil_prediksi3.append(prediksi3)\n",
    "\n",
    "y_prediksi3 = []\n",
    "for h in range(0,len(hasil_prediksi3)):\n",
    "  z = hasil_prediksi3[h][0][0]\n",
    "  y_prediksi3.append(z)\n",
    "\n",
    "#Evaluasi fold 4\n",
    "fknn4 = FuzzyKNN(k=3)\n",
    "fknn4.fit(X_train_array_cv4, y_train_array_cv4)\n",
    "hasil_prediksi4 = []\n",
    "for g in range(0,len(X_test_array_cv4)):\n",
    "  prediksi4 = fknn4.predict(X_test_array_cv4[[g]])\n",
    "  hasil_prediksi4.append(prediksi4)\n",
    "\n",
    "y_prediksi4 = []\n",
    "for h in range(0,len(hasil_prediksi4)):\n",
    "  z = hasil_prediksi4[h][0][0]\n",
    "  y_prediksi4.append(z)\n",
    "\n",
    "#Evaluasi fold 5\n",
    "fknn5 = FuzzyKNN(k=3)\n",
    "fknn5.fit(X_train_array_cv5, y_train_array_cv5)\n",
    "hasil_prediksi5 = []\n",
    "for g in range(0,len(X_test_array_cv5)):\n",
    "  prediksi5 = fknn5.predict(X_test_array_cv5[[g]])\n",
    "  hasil_prediksi5.append(prediksi5)\n",
    "\n",
    "y_prediksi5 = []\n",
    "for h in range(0,len(hasil_prediksi5)):\n",
    "  z = hasil_prediksi5[h][0][0]\n",
    "  y_prediksi5.append(z)\n",
    "#print(classification_report(y_test_array_cv1, y_prediksi, digits=4))\n",
    "\n",
    "print('Accuracy = '+str(format(statistics.mean([accuracy_score(y_test_array_cv1, y_prediksi1),accuracy_score(y_test_array_cv2, y_prediksi2),accuracy_score(y_test_array_cv3, y_prediksi3),accuracy_score(y_test_array_cv4, y_prediksi4),accuracy_score(y_test_array_cv5, y_prediksi5)]), '.4f')))\n",
    "print('Recall Tidak Lulus = '+str(format(statistics.mean([recall_score(y_test_array_cv1, y_prediksi1,pos_label=0),recall_score(y_test_array_cv2, y_prediksi2, pos_label=0), recall_score(y_test_array_cv3, y_prediksi3, pos_label=0),recall_score(y_test_array_cv4, y_prediksi4,pos_label=0), recall_score(y_test_array_cv5, y_prediksi5,pos_label=0)]), '.4f')))\n",
    "print('Recall Lulus = '+str(format(statistics.mean([recall_score(y_test_array_cv1, y_prediksi1,pos_label=1),recall_score(y_test_array_cv2, y_prediksi2, pos_label=1), recall_score(y_test_array_cv3, y_prediksi3, pos_label=1),recall_score(y_test_array_cv4, y_prediksi4,pos_label=1), recall_score(y_test_array_cv5, y_prediksi5,pos_label=1)]), '.4f')))\n",
    "print('Precision Tidak Lulus = '+str(format(statistics.mean([precision_score(y_test_array_cv1, y_prediksi1,pos_label=0),precision_score(y_test_array_cv2, y_prediksi2, pos_label=0), precision_score(y_test_array_cv3, y_prediksi3, pos_label=0),precision_score(y_test_array_cv4, y_prediksi4,pos_label=0), precision_score(y_test_array_cv5, y_prediksi5,pos_label=0)]), '.4f')))\n",
    "print('Precision Lulus = '+str(format(statistics.mean([precision_score(y_test_array_cv1, y_prediksi1,pos_label=1),precision_score(y_test_array_cv2, y_prediksi2, pos_label=1), precision_score(y_test_array_cv3, y_prediksi3, pos_label=1),precision_score(y_test_array_cv4, y_prediksi4,pos_label=1), precision_score(y_test_array_cv5, y_prediksi5,pos_label=1)]), '.4f')))\n",
    "#format(0.500000000, '.2f')\n",
    "#tabel_arp = print(classification_report(y_test_array_cv1, y_prediksi, digits=4))\n",
    "#tabel_arp["
   ]
  },
  {
   "cell_type": "code",
   "execution_count": 9,
   "metadata": {
    "cellView": "form",
    "colab": {
     "base_uri": "https://localhost:8080/",
     "height": 90,
     "resources": {
      "http://localhost:8080/nbextensions/google.colab/files.js": {
       "data": "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",
       "headers": [
        [
         "content-type",
         "application/javascript"
        ]
       ],
       "ok": true,
       "status": 200,
       "status_text": ""
      }
     }
    },
    "id": "soCq7SxrHVO7",
    "outputId": "7cdc3a83-52cd-4bdf-bb91-9f2a6b56d329"
   },
   "outputs": [
    {
     "data": {
      "text/html": [
       "\n",
       "     <input type=\"file\" id=\"files-bcc59a62-5ec6-4acd-8079-ca81a3d1024b\" name=\"files[]\" multiple disabled\n",
       "        style=\"border:none\" />\n",
       "     <output id=\"result-bcc59a62-5ec6-4acd-8079-ca81a3d1024b\">\n",
       "      Upload widget is only available when the cell has been executed in the\n",
       "      current browser session. Please rerun this cell to enable.\n",
       "      </output>\n",
       "      <script src=\"/nbextensions/google.colab/files.js\"></script> "
      ],
      "text/plain": [
       "<IPython.core.display.HTML object>"
      ]
     },
     "metadata": {},
     "output_type": "display_data"
    },
    {
     "ename": "KeyboardInterrupt",
     "evalue": "",
     "output_type": "error",
     "traceback": [
      "\u001b[0;31m---------------------------------------------------------------------------\u001b[0m",
      "\u001b[0;31mKeyboardInterrupt\u001b[0m                         Traceback (most recent call last)",
      "\u001b[0;32m<ipython-input-9-e96c16217839>\u001b[0m in \u001b[0;36m<module>\u001b[0;34m()\u001b[0m\n\u001b[1;32m      1\u001b[0m \u001b[0;31m#@title 7. Silahkan unggah Data Mahasiswa yang sedang berlangsung (Ongoing)\u001b[0m\u001b[0;34m\u001b[0m\u001b[0;34m\u001b[0m\u001b[0;34m\u001b[0m\u001b[0m\n\u001b[0;32m----> 2\u001b[0;31m \u001b[0muploaded1\u001b[0m \u001b[0;34m=\u001b[0m \u001b[0mfiles\u001b[0m\u001b[0;34m.\u001b[0m\u001b[0mupload\u001b[0m\u001b[0;34m(\u001b[0m\u001b[0;34m)\u001b[0m\u001b[0;34m\u001b[0m\u001b[0;34m\u001b[0m\u001b[0m\n\u001b[0m",
      "\u001b[0;32m/Users/macbook/.pyenv/versions/3.7.13/lib/python3.7/site-packages/google_colab-1.0.0-py3.7.egg/google/colab/files.py\u001b[0m in \u001b[0;36mupload\u001b[0;34m()\u001b[0m\n\u001b[1;32m     44\u001b[0m   \"\"\"\n\u001b[1;32m     45\u001b[0m \u001b[0;34m\u001b[0m\u001b[0m\n\u001b[0;32m---> 46\u001b[0;31m   \u001b[0muploaded_files\u001b[0m \u001b[0;34m=\u001b[0m \u001b[0m_upload_files\u001b[0m\u001b[0;34m(\u001b[0m\u001b[0mmultiple\u001b[0m\u001b[0;34m=\u001b[0m\u001b[0;32mTrue\u001b[0m\u001b[0;34m)\u001b[0m\u001b[0;34m\u001b[0m\u001b[0;34m\u001b[0m\u001b[0m\n\u001b[0m\u001b[1;32m     47\u001b[0m   \u001b[0;31m# Mapping from original filename to filename as saved locally.\u001b[0m\u001b[0;34m\u001b[0m\u001b[0;34m\u001b[0m\u001b[0;34m\u001b[0m\u001b[0m\n\u001b[1;32m     48\u001b[0m   \u001b[0mlocal_filenames\u001b[0m \u001b[0;34m=\u001b[0m \u001b[0mdict\u001b[0m\u001b[0;34m(\u001b[0m\u001b[0;34m)\u001b[0m\u001b[0;34m\u001b[0m\u001b[0;34m\u001b[0m\u001b[0m\n",
      "\u001b[0;32m/Users/macbook/.pyenv/versions/3.7.13/lib/python3.7/site-packages/google_colab-1.0.0-py3.7.egg/google/colab/files.py\u001b[0m in \u001b[0;36m_upload_files\u001b[0;34m(multiple)\u001b[0m\n\u001b[1;32m    121\u001b[0m   result = _output.eval_js(\n\u001b[1;32m    122\u001b[0m       'google.colab._files._uploadFiles(\"{input_id}\", \"{output_id}\")'.format(\n\u001b[0;32m--> 123\u001b[0;31m           input_id=input_id, output_id=output_id))\n\u001b[0m\u001b[1;32m    124\u001b[0m   \u001b[0mfiles\u001b[0m \u001b[0;34m=\u001b[0m \u001b[0m_collections\u001b[0m\u001b[0;34m.\u001b[0m\u001b[0mdefaultdict\u001b[0m\u001b[0;34m(\u001b[0m\u001b[0m_six\u001b[0m\u001b[0;34m.\u001b[0m\u001b[0mbinary_type\u001b[0m\u001b[0;34m)\u001b[0m\u001b[0;34m\u001b[0m\u001b[0;34m\u001b[0m\u001b[0m\n\u001b[1;32m    125\u001b[0m \u001b[0;34m\u001b[0m\u001b[0m\n",
      "\u001b[0;32m/Users/macbook/.pyenv/versions/3.7.13/lib/python3.7/site-packages/google_colab-1.0.0-py3.7.egg/google/colab/output/_js.py\u001b[0m in \u001b[0;36meval_js\u001b[0;34m(script, ignore_result, timeout_sec)\u001b[0m\n\u001b[1;32m     38\u001b[0m   \u001b[0;32mif\u001b[0m \u001b[0mignore_result\u001b[0m\u001b[0;34m:\u001b[0m\u001b[0;34m\u001b[0m\u001b[0;34m\u001b[0m\u001b[0m\n\u001b[1;32m     39\u001b[0m     \u001b[0;32mreturn\u001b[0m\u001b[0;34m\u001b[0m\u001b[0;34m\u001b[0m\u001b[0m\n\u001b[0;32m---> 40\u001b[0;31m   \u001b[0;32mreturn\u001b[0m \u001b[0m_message\u001b[0m\u001b[0;34m.\u001b[0m\u001b[0mread_reply_from_input\u001b[0m\u001b[0;34m(\u001b[0m\u001b[0mrequest_id\u001b[0m\u001b[0;34m,\u001b[0m \u001b[0mtimeout_sec\u001b[0m\u001b[0;34m)\u001b[0m\u001b[0;34m\u001b[0m\u001b[0;34m\u001b[0m\u001b[0m\n\u001b[0m\u001b[1;32m     41\u001b[0m \u001b[0;34m\u001b[0m\u001b[0m\n\u001b[1;32m     42\u001b[0m \u001b[0;34m\u001b[0m\u001b[0m\n",
      "\u001b[0;32m/Users/macbook/.pyenv/versions/3.7.13/lib/python3.7/site-packages/google_colab-1.0.0-py3.7.egg/google/colab/_message.py\u001b[0m in \u001b[0;36mread_reply_from_input\u001b[0;34m(message_id, timeout_sec)\u001b[0m\n\u001b[1;32m     99\u001b[0m     \u001b[0mreply\u001b[0m \u001b[0;34m=\u001b[0m \u001b[0m_read_next_input_message\u001b[0m\u001b[0;34m(\u001b[0m\u001b[0;34m)\u001b[0m\u001b[0;34m\u001b[0m\u001b[0;34m\u001b[0m\u001b[0m\n\u001b[1;32m    100\u001b[0m     \u001b[0;32mif\u001b[0m \u001b[0mreply\u001b[0m \u001b[0;34m==\u001b[0m \u001b[0m_NOT_READY\u001b[0m \u001b[0;32mor\u001b[0m \u001b[0;32mnot\u001b[0m \u001b[0misinstance\u001b[0m\u001b[0;34m(\u001b[0m\u001b[0mreply\u001b[0m\u001b[0;34m,\u001b[0m \u001b[0mdict\u001b[0m\u001b[0;34m)\u001b[0m\u001b[0;34m:\u001b[0m\u001b[0;34m\u001b[0m\u001b[0;34m\u001b[0m\u001b[0m\n\u001b[0;32m--> 101\u001b[0;31m       \u001b[0mtime\u001b[0m\u001b[0;34m.\u001b[0m\u001b[0msleep\u001b[0m\u001b[0;34m(\u001b[0m\u001b[0;36m0.025\u001b[0m\u001b[0;34m)\u001b[0m\u001b[0;34m\u001b[0m\u001b[0;34m\u001b[0m\u001b[0m\n\u001b[0m\u001b[1;32m    102\u001b[0m       \u001b[0;32mcontinue\u001b[0m\u001b[0;34m\u001b[0m\u001b[0;34m\u001b[0m\u001b[0m\n\u001b[1;32m    103\u001b[0m     if (reply.get('type') == 'colab_reply' and\n",
      "\u001b[0;31mKeyboardInterrupt\u001b[0m: "
     ]
    }
   ],
   "source": [
    "#@title 7. Silahkan unggah Data Mahasiswa yang sedang berlangsung (Ongoing)\n",
    "uploaded1 = files.upload()"
   ]
  },
  {
   "cell_type": "code",
   "execution_count": 12,
   "metadata": {
    "cellView": "form",
    "colab": {
     "base_uri": "https://localhost:8080/"
    },
    "id": "-bWf78-eHVSQ",
    "outputId": "acf3c4f4-0598-4635-d298-63ce06a91fae"
   },
   "outputs": [
    {
     "name": "stderr",
     "output_type": "stream",
     "text": [
      "/Users/macbook/.pyenv/versions/3.7.13/lib/python3.7/site-packages/pandas/core/indexing.py:1817: SettingWithCopyWarning: \n",
      "A value is trying to be set on a copy of a slice from a DataFrame.\n",
      "Try using .loc[row_indexer,col_indexer] = value instead\n",
      "\n",
      "See the caveats in the documentation: https://pandas.pydata.org/pandas-docs/stable/user_guide/indexing.html#returning-a-view-versus-a-copy\n",
      "  self._setitem_single_column(loc, value, pi)\n",
      "/Users/macbook/.pyenv/versions/3.7.13/lib/python3.7/site-packages/pandas/core/indexing.py:1684: SettingWithCopyWarning: \n",
      "A value is trying to be set on a copy of a slice from a DataFrame.\n",
      "Try using .loc[row_indexer,col_indexer] = value instead\n",
      "\n",
      "See the caveats in the documentation: https://pandas.pydata.org/pandas-docs/stable/user_guide/indexing.html#returning-a-view-versus-a-copy\n",
      "  self.obj[key] = infer_fill_value(value)\n",
      "/Users/macbook/.pyenv/versions/3.7.13/lib/python3.7/site-packages/ipykernel_launcher.py:125: SettingWithCopyWarning: \n",
      "A value is trying to be set on a copy of a slice from a DataFrame.\n",
      "Try using .loc[row_indexer,col_indexer] = value instead\n",
      "\n",
      "See the caveats in the documentation: https://pandas.pydata.org/pandas-docs/stable/user_guide/indexing.html#returning-a-view-versus-a-copy\n",
      "/Users/macbook/.pyenv/versions/3.7.13/lib/python3.7/site-packages/ipykernel_launcher.py:126: SettingWithCopyWarning: \n",
      "A value is trying to be set on a copy of a slice from a DataFrame.\n",
      "Try using .loc[row_indexer,col_indexer] = value instead\n",
      "\n",
      "See the caveats in the documentation: https://pandas.pydata.org/pandas-docs/stable/user_guide/indexing.html#returning-a-view-versus-a-copy\n",
      "/Users/macbook/.pyenv/versions/3.7.13/lib/python3.7/site-packages/ipykernel_launcher.py:127: SettingWithCopyWarning: \n",
      "A value is trying to be set on a copy of a slice from a DataFrame.\n",
      "Try using .loc[row_indexer,col_indexer] = value instead\n",
      "\n",
      "See the caveats in the documentation: https://pandas.pydata.org/pandas-docs/stable/user_guide/indexing.html#returning-a-view-versus-a-copy\n",
      "/Users/macbook/.pyenv/versions/3.7.13/lib/python3.7/site-packages/ipykernel_launcher.py:128: SettingWithCopyWarning: \n",
      "A value is trying to be set on a copy of a slice from a DataFrame.\n",
      "Try using .loc[row_indexer,col_indexer] = value instead\n",
      "\n",
      "See the caveats in the documentation: https://pandas.pydata.org/pandas-docs/stable/user_guide/indexing.html#returning-a-view-versus-a-copy\n",
      "/Users/macbook/.pyenv/versions/3.7.13/lib/python3.7/site-packages/ipykernel_launcher.py:129: SettingWithCopyWarning: \n",
      "A value is trying to be set on a copy of a slice from a DataFrame.\n",
      "Try using .loc[row_indexer,col_indexer] = value instead\n",
      "\n",
      "See the caveats in the documentation: https://pandas.pydata.org/pandas-docs/stable/user_guide/indexing.html#returning-a-view-versus-a-copy\n"
     ]
    }
   ],
   "source": [
    "#@title 8. Proses Prediksi Mahasiswa (Data Ongoing)\n",
    "#@title\n",
    "X_test_cv5_plus_name.loc[X_test_cv5_plus_name['PREDIKSI KELULUSAN']==1, 'PREDIKSI KELULUSAN']=\"Diprediksi Lulus\"\n",
    "#@title\n",
    "X_test_cv5_plus_name.loc[X_test_cv5_plus_name['PREDIKSI KELULUSAN']==0, 'PREDIKSI KELULUSAN']=\"Diprediksi Tidak Lulus\"\n",
    "df6 = pd.read_excel(r'content/Contoh-Data-ICE-On-Going.xlsx')\n",
    "#Pemilihan variabel independen\n",
    "df6['Mean_kuis'] = (df6['Kuis_1']+df6['Kuis_2'])/2\n",
    "X2 = df6[['Nama','Akses_File','Akses_Video','Akses Forum', 'Mean_kuis', 'Tugas_1']]\n",
    "#Normalisasi Data\n",
    "for i in range(len(X2)):\n",
    "  X2.loc[i, \"Akses_File_norm\"] = (X2['Akses_File'][i] - X['Akses_File'].min())/(X['Akses_File'].max() - X['Akses_File'].min())\n",
    "  X2.loc[i, \"Akses_Video_norm\"] = (X2['Akses_Video'][i] - X['Akses_Video'].min())/(X['Akses_Video'].max() - X['Akses_Video'].min())\n",
    "  X2.loc[i, \"Akses_Forum_norm\"] = (X2['Akses Forum'][i] - X['Akses Forum'].min())/(X['Akses Forum'].max() - X['Akses Forum'].min())\n",
    "  X2.loc[i, \"Mean_kuis_norm\"] = (X2['Mean_kuis'][i] - X['Mean_kuis'].min())/(X['Mean_kuis'].max() - X['Mean_kuis'].min())\n",
    "  X2.loc[i, \"Mean_tugas_norm\"] = (X2['Tugas_1'][i] - X['Tugas_1'].min())/(X['Tugas_1'].max() - X['Tugas_1'].min())\n",
    "#Variabel independen setelah normalisasi\n",
    "X3 = X2[['Akses_File_norm','Akses_Video_norm','Akses_Forum_norm','Mean_kuis_norm','Mean_tugas_norm']]\n",
    "X3 = X3.round(6)\n",
    "#Mengubah Variabel independen ke dalam array\n",
    "X3_array = np.array(X3)\n",
    "\n",
    "X_norm = X_norm.round(6)\n",
    "\n",
    "active2 = X3.loc[(X3['Mean_kuis_norm'] != 0) | (X3['Mean_tugas_norm'] != 0)]\n",
    "observers2 = X3.loc[(X3['Mean_kuis_norm'] == 0) & (X3['Mean_tugas_norm'] == 0)]\n",
    "\n",
    "#Daftar Mahasiswa yang Observers (Data Ongoing)\n",
    "observers2.loc[(observers2['Mean_kuis_norm'] == 0) & (observers2['Mean_tugas_norm'] == 0),'Status'] = \"Observers\"\n",
    "result = pd.concat([X2[['Nama']], observers2], axis=1, join='inner')\n",
    "\n",
    "#Daftar Mahasiswa yang Active (Data Ongoing)\n",
    "active2.loc[(active2['Mean_kuis_norm'] != 0) | (active2['Mean_tugas_norm'] != 0),'Status'] = \"Active\"\n",
    "result2 = pd.concat([X2[['Nama']], active2], axis=1, join='inner')\n",
    "\n",
    "#Mengecek apakah ada duplikasi antara data ongoing dengan data historis\n",
    "duplicate = pd.merge(result2, df4[['Akses_File_norm','Akses_Video_norm','Akses_Forum_norm','Mean_kuis_norm','Mean_tugas_norm', 'is_pass']].round(6),\n",
    "                     on=['Akses_File_norm','Akses_Video_norm', 'Akses_Forum_norm','Mean_kuis_norm','Mean_tugas_norm'],\n",
    "                     how='inner')\n",
    "duplicate.loc[duplicate['is_pass']==\"Lulus\", 'Status']=\"Diprediksi Lulus\"\n",
    "duplicate.loc[duplicate['is_pass']==\"Tidak Lulus\", 'Status']=\"Diprediksi Tidak Lulus\"\n",
    "duplicate.drop(columns=['is_pass'], inplace=True)\n",
    "\n",
    "non_duplicate = result2.merge(X_norm, on=['Akses_File_norm','Akses_Video_norm',\n",
    "                                         'Akses_Forum_norm','Mean_kuis_norm','Mean_tugas_norm'],\n",
    "                         how='left', indicator=True)\n",
    "non_duplicate = non_duplicate.loc[non_duplicate._merge=='left_only',non_duplicate.columns!='_merge']\n",
    "\n",
    "X_non_duplicate = non_duplicate[['Akses_File_norm','Akses_Video_norm', 'Akses_Forum_norm','Mean_kuis_norm','Mean_tugas_norm']]\n",
    "X_non_duplicate_array = np.array(X_non_duplicate)\n",
    "\n",
    "\n",
    "#fold 1\n",
    "fknn_new1 = FuzzyKNN(k=3)\n",
    "fknn_new1.fit(X_train_array_cv1, y_train_array_cv1)\n",
    "hasil_prediksi_new1 = []\n",
    "for g in range(0,len(X_non_duplicate_array)):\n",
    "  prediksi_new1 = fknn_new1.predict(X_non_duplicate_array[[g]])\n",
    "  hasil_prediksi_new1.append(prediksi_new1)\n",
    "\n",
    "y_prediksi_new1 = []\n",
    "for h in range(0,len(hasil_prediksi_new1)):\n",
    "  z = hasil_prediksi_new1[h][0][0]\n",
    " \n",
    "  y_prediksi_new1.append(z)\n",
    "\n",
    "#fold 2\n",
    "fknn_new2 = FuzzyKNN(k=3)\n",
    "fknn_new2.fit(X_train_array_cv2, y_train_array_cv2)\n",
    "hasil_prediksi_new2 = []\n",
    "for g in range(0,len(X_non_duplicate_array)):\n",
    "  prediksi_new2 = fknn_new2.predict(X_non_duplicate_array[[g]])\n",
    "  hasil_prediksi_new2.append(prediksi_new2)\n",
    "\n",
    "y_prediksi_new2 = []\n",
    "for h in range(0,len(hasil_prediksi_new2)):\n",
    "  z = hasil_prediksi_new2[h][0][0]\n",
    " \n",
    "  y_prediksi_new2.append(z)\n",
    "\n",
    "#fold 3\n",
    "fknn_new3 = FuzzyKNN(k=3)\n",
    "fknn_new3.fit(X_train_array_cv3, y_train_array_cv3)\n",
    "hasil_prediksi_new3 = []\n",
    "for g in range(0,len(X_non_duplicate_array)):\n",
    "  prediksi_new3 = fknn_new3.predict(X_non_duplicate_array[[g]])\n",
    "  hasil_prediksi_new3.append(prediksi_new3)\n",
    "\n",
    "y_prediksi_new3 = []\n",
    "for h in range(0,len(hasil_prediksi_new3)):\n",
    "  z = hasil_prediksi_new3[h][0][0]\n",
    " \n",
    "  y_prediksi_new3.append(z)\n",
    "\n",
    "#fold 4\n",
    "fknn_new4 = FuzzyKNN(k=3)\n",
    "fknn_new4.fit(X_train_array_cv4, y_train_array_cv4)\n",
    "hasil_prediksi_new4 = []\n",
    "for g in range(0,len(X_non_duplicate_array)):\n",
    "  prediksi_new4 = fknn_new4.predict(X_non_duplicate_array[[g]])\n",
    "  hasil_prediksi_new4.append(prediksi_new4)\n",
    "\n",
    "y_prediksi_new4 = []\n",
    "for h in range(0,len(hasil_prediksi_new4)):\n",
    "  z = hasil_prediksi_new4[h][0][0]\n",
    " \n",
    "  y_prediksi_new4.append(z)\n",
    "\n",
    "#fold 5\n",
    "fknn_new5 = FuzzyKNN(k=3)\n",
    "fknn_new5.fit(X_train_array_cv5, y_train_array_cv5)\n",
    "hasil_prediksi_new5 = []\n",
    "for g in range(0,len(X_non_duplicate_array)):\n",
    "  prediksi_new5 = fknn_new5.predict(X_non_duplicate_array[[g]])\n",
    "  hasil_prediksi_new5.append(prediksi_new5)\n",
    "\n",
    "y_prediksi_new5 = []\n",
    "for h in range(0,len(hasil_prediksi_new5)):\n",
    "  z = hasil_prediksi_new5[h][0][0]\n",
    " \n",
    "  y_prediksi_new5.append(z)\n",
    "\n",
    "#Menampilkan mahasiswa hasil prediksi\n",
    "df8 = non_duplicate[['Nama']]\n",
    "df8[\"Prediksi1\"] = y_prediksi_new1\n",
    "df8[\"Prediksi2\"] = y_prediksi_new2\n",
    "df8[\"Prediksi3\"] = y_prediksi_new3\n",
    "df8[\"Prediksi4\"] = y_prediksi_new4\n",
    "df8[\"Prediksi5\"] = y_prediksi_new5\n",
    "#Vote Hasil Prediksi\n",
    "df8.loc[(df8['Prediksi1']+df8['Prediksi2']+df8['Prediksi3']+df8['Prediksi4']+df8['Prediksi5'])/5 >= 0.5,'Hasil Prediksi'] = \"Diprediksi Lulus\"\n",
    "df8.loc[(df8['Prediksi1']+df8['Prediksi2']+df8['Prediksi3']+df8['Prediksi4']+df8['Prediksi5'])/5 < 0.5,'Hasil Prediksi'] = \"Diprediksi Tidak Lulus\"\n",
    "\n",
    "#Data Gabungan\n",
    "result3 = pd.concat([non_duplicate, df8[['Hasil Prediksi']]], axis=1, join='inner')\n",
    "result3.drop(columns=['Status'], inplace=True)\n",
    "result3.rename(columns={'Hasil Prediksi':'Status'}, inplace=True)\n",
    "union = pd.concat([result, duplicate, result3], ignore_index=True)"
   ]
  },
  {
   "cell_type": "code",
   "execution_count": 13,
   "metadata": {
    "cellView": "form",
    "colab": {
     "base_uri": "https://localhost:8080/",
     "height": 264
    },
    "id": "uMkUw1P9Xbql",
    "outputId": "32507f5a-7c80-4740-c4f7-8a821ea148ca"
   },
   "outputs": [
    {
     "data": {
      "image/png": "[encoded data removed]",
      "text/plain": [
       "<Figure size 432x288 with 1 Axes>"
      ]
     },
     "metadata": {},
     "output_type": "display_data"
    }
   ],
   "source": [
    "#@title 9. Proporsi Mahasiswa Active dan Observers (Data Ongoing)\n",
    "count_active2 = len(active2)\n",
    "count_observers2 = len(observers2)\n",
    "\n",
    "\n",
    "labels2 = 'Active = '+str(count_active2), 'Observers = '+str(count_observers2)\n",
    "sections2 = [count_active2, count_observers2]\n",
    "colors2 = ['c', 'r']\n",
    "\n",
    "plt.pie(sections2, labels=labels2, colors=colors2,\n",
    "        startangle=90,\n",
    "        explode = (0, 0.1),\n",
    "        autopct = '%1.2f%%')\n",
    "\n",
    "#plt.axis('equal') # Try commenting this out.\n",
    "plt.title('Proporsi Mahasiswa Active dan Observers (Data Ongoing)')\n",
    "plt.show()"
   ]
  },
  {
   "cell_type": "code",
   "execution_count": 14,
   "metadata": {
    "cellView": "form",
    "colab": {
     "base_uri": "https://localhost:8080/",
     "height": 264
    },
    "id": "QqYZHQdpYJYN",
    "outputId": "b23b856b-7fb3-4d01-9ee0-fa64130098ca"
   },
   "outputs": [
    {
     "data": {
      "image/png": "[encoded data removed]",
      "text/plain": [
       "<Figure size 432x288 with 1 Axes>"
      ]
     },
     "metadata": {},
     "output_type": "display_data"
    }
   ],
   "source": [
    "#@title 10. Proporsi Keseluruhan Mahasiswa (Data Ongoing)\n",
    "count_lulus = len(union[union['Status']==\"Diprediksi Lulus\"])\n",
    "count_tidaklulus = len(union[union['Status']==\"Diprediksi Tidak Lulus\"])\n",
    "count_observer = len(union[union['Status']==\"Observers\"])\n",
    "\n",
    "labels3 = 'Diprediksi Lulus = '+str(count_lulus), 'Diprediksi Tidak Lulus = '+str(count_tidaklulus), 'Observers = '+str(count_observer)\n",
    "sections3 = [count_lulus, count_tidaklulus, count_observer]\n",
    "colors3 = ['c', 'g', 'r']\n",
    "\n",
    "plt.pie(sections3, labels=labels3, colors=colors3,\n",
    "        startangle=90)\n",
    "\n",
    "#plt.axis('equal') # Try commenting this out.\n",
    "plt.title('Proporsi Keseluruhan Mahasiswa (Data Ongoing)')\n",
    "plt.show()"
   ]
  },
  {
   "cell_type": "code",
   "execution_count": 15,
   "metadata": {
    "cellView": "form",
    "colab": {
     "base_uri": "https://localhost:8080/",
     "height": 17
    },
    "id": "FAdmC5z-YJbz",
    "outputId": "bcfe6710-f838-4321-c343-eadf10a27ee3"
   },
   "outputs": [
    {
     "data": {
      "application/javascript": [
       "\n",
       "    async function download(id, filename, size) {\n",
       "      if (!google.colab.kernel.accessAllowed) {\n",
       "        return;\n",
       "      }\n",
       "      const div = document.createElement('div');\n",
       "      const label = document.createElement('label');\n",
       "      label.textContent = `Downloading \"${filename}\": `;\n",
       "      div.appendChild(label);\n",
       "      const progress = document.createElement('progress');\n",
       "      progress.max = size;\n",
       "      div.appendChild(progress);\n",
       "      document.body.appendChild(div);\n",
       "\n",
       "      const buffers = [];\n",
       "      let downloaded = 0;\n",
       "\n",
       "      const channel = await google.colab.kernel.comms.open(id);\n",
       "      // Send a message to notify the kernel that we're ready.\n",
       "      channel.send({})\n",
       "\n",
       "      for await (const message of channel.messages) {\n",
       "        // Send a message to notify the kernel that we're ready.\n",
       "        channel.send({})\n",
       "        if (message.buffers) {\n",
       "          for (const buffer of message.buffers) {\n",
       "            buffers.push(buffer);\n",
       "            downloaded += buffer.byteLength;\n",
       "            progress.value = downloaded;\n",
       "          }\n",
       "        }\n",
       "      }\n",
       "      const blob = new Blob(buffers, {type: 'application/binary'});\n",
       "      const a = document.createElement('a');\n",
       "      a.href = window.URL.createObjectURL(blob);\n",
       "      a.download = filename;\n",
       "      div.appendChild(a);\n",
       "      a.click();\n",
       "      div.remove();\n",
       "    }\n",
       "  "
      ],
      "text/plain": [
       "<IPython.core.display.Javascript object>"
      ]
     },
     "metadata": {},
     "output_type": "display_data"
    },
    {
     "data": {
      "application/javascript": [
       "download(\"download_43fd1aa0-5434-40c6-8edb-dc6a381be63f\", \"Hasil Prediksi.xlsx\", 5087)"
      ],
      "text/plain": [
       "<IPython.core.display.Javascript object>"
      ]
     },
     "metadata": {},
     "output_type": "display_data"
    }
   ],
   "source": [
    "#@title 11. Download Hasil Prediksi ke Excel\n",
    "excelfilename = \"Hasil Prediksi.xlsx\"\n",
    "union[['Nama', 'Status']].to_excel(excelfilename, sheet_name='Hasil Prediksi', index=False)\n",
    "files.download(excelfilename)"
   ]
  },
  {
   "cell_type": "code",
   "execution_count": null,
   "metadata": {},
   "outputs": [],
   "source": []
  }
 ],
 "metadata": {
  "colab": {
   "collapsed_sections": [],
   "name": "Data ICEI.ipynb",
   "provenance": []
  },
  "kernelspec": {
   "display_name": "Python 3",
   "language": "python",
   "name": "python3"
  },
  "language_info": {
   "codemirror_mode": {
    "name": "ipython",
    "version": 3
   },
   "file_extension": ".py",
   "mimetype": "text/x-python",
   "name": "python",
   "nbconvert_exporter": "python",
   "pygments_lexer": "ipython3",
   "version": "3.7.13"
  }
 },
 "nbformat": 4,
 "nbformat_minor": 1
}
