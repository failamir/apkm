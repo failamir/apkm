{
 "cells": [
  {
   "cell_type": "code",
   "execution_count": 7,
   "metadata": {
    "colab": {
     "base_uri": "https://localhost:8080/",
     "height": 34
    },
    "id": "_n4OIAytfqQz",
    "outputId": "1c9e7937-90cd-4bd2-fb77-233185e11199"
   },
   "outputs": [
    {
     "ename": "ModuleNotFoundError",
     "evalue": "No module named 'google'",
     "output_type": "error",
     "traceback": [
      "\u001b[0;31m---------------------------------------------------------------------------\u001b[0m",
      "\u001b[0;31mModuleNotFoundError\u001b[0m                       Traceback (most recent call last)",
      "Input \u001b[0;32mIn [7]\u001b[0m, in \u001b[0;36m<cell line: 1>\u001b[0;34m()\u001b[0m\n\u001b[0;32m----> 1\u001b[0m \u001b[38;5;28;01mfrom\u001b[39;00m \u001b[38;5;21;01mgoogle\u001b[39;00m\u001b[38;5;21;01m.\u001b[39;00m\u001b[38;5;21;01mcolab\u001b[39;00m \u001b[38;5;28;01mimport\u001b[39;00m output\n\u001b[1;32m      2\u001b[0m output\u001b[38;5;241m.\u001b[39mserve_kernel_port_as_window(\u001b[38;5;241m8084\u001b[39m)\n",
      "\u001b[0;31mModuleNotFoundError\u001b[0m: No module named 'google'"
     ]
    }
   ],
   "source": [
    "from google.colab import output\n",
    "output.serve_kernel_port_as_window(8084)"
   ]
  },
  {
   "cell_type": "markdown",
   "metadata": {
    "id": "Hz39pJjnfq-b"
   },
   "source": [
    "Run the above **and below** cells and then, click on link above 👆 `https://localhost:8084/` to see output (web-app) of code below👇 in new tab.\n",
    "\n",
    "\n",
    "<br>\n",
    "<br>\n",
    "\n",
    "\n",
    "**Note:** The page will load when you see output like below in last cell. Reload the new tab if necessary.\n",
    "\n",
    "```\n",
    "INFO:     Uvicorn running on http://127.0.0.1:8084 (Press CTRL+C to quit)\n",
    "INFO:     Started reloader process [147] using statreload\n",
    "INFO:     Started server process [153]\n",
    "INFO:     Waiting for application startup.\n",
    "INFO:     Application startup complete.\n",
    "```"
   ]
  },
  {
   "cell_type": "code",
   "execution_count": null,
   "metadata": {
    "colab": {
     "base_uri": "https://localhost:8080/"
    },
    "id": "5Xi_ib-8fhKY",
    "outputId": "98216aab-0958-47fc-8d92-f7a4652611d6"
   },
   "outputs": [],
   "source": [
    "!git clone https://github.com/rakesh4real/ocr.pytorch.git"
   ]
  },
  {
   "cell_type": "code",
   "execution_count": null,
   "metadata": {
    "colab": {
     "base_uri": "https://localhost:8080/"
    },
    "id": "Gtv4_ftYfk4a",
    "outputId": "67d71b77-68c3-46b1-ef46-3ad0feb4462c"
   },
   "outputs": [],
   "source": [
    "%cd ocr.pytorch/checkpoints\n",
    "!curl -O https://raw.githubusercontent.com/rakesh4real/ocr.pytorch/master/checkpoints/CTPN.pth\n",
    "!curl -O https://raw.githubusercontent.com/rakesh4real/ocr.pytorch/master/checkpoints/CRNN-1010.pth\n",
    "%cd .. "
   ]
  },
  {
   "cell_type": "code",
   "execution_count": null,
   "metadata": {
    "colab": {
     "base_uri": "https://localhost:8080/"
    },
    "id": "psrQJDxGfmqs",
    "outputId": "1fc169b3-affb-4a5d-e7f1-de2e8ceba0f8"
   },
   "outputs": [],
   "source": [
    "!pip install fastapi\n",
    "!pip install uvicorn\n",
    "!pip install aiofiles\n",
    "!pip install python-multipart\n",
    "\n",
    "!python -m uvicorn main:app --reload --port 8084"
   ]
  }
 ],
 "metadata": {
  "colab": {
   "name": "web-app-demo.ipynb",
   "provenance": []
  },
  "kernelspec": {
   "display_name": "Python 3 (ipykernel)",
   "language": "python",
   "name": "python3"
  },
  "language_info": {
   "codemirror_mode": {
    "name": "ipython",
    "version": 3
   },
   "file_extension": ".py",
   "mimetype": "text/x-python",
   "name": "python",
   "nbconvert_exporter": "python",
   "pygments_lexer": "ipython3",
   "version": "3.9.13"
  }
 },
 "nbformat": 4,
 "nbformat_minor": 1
}
